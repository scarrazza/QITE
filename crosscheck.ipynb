{
 "cells": [
  {
   "cell_type": "markdown",
   "metadata": {},
   "source": [
    "## Imports"
   ]
  },
  {
   "cell_type": "code",
   "execution_count": 5,
   "metadata": {},
   "outputs": [],
   "source": [
    "import numpy as np\n",
    "import networkx as nx\n",
    "from qibo import matrices, optimizers\n",
    "from qibo.hamiltonians import Hamiltonian\n",
    "import tensorflow as tf\n",
    "import matplotlib.pyplot as plt\n",
    "%matplotlib inline"
   ]
  },
  {
   "cell_type": "markdown",
   "metadata": {},
   "source": [
    "## MAXcut Hamiltonian"
   ]
  },
  {
   "cell_type": "code",
   "execution_count": 6,
   "metadata": {},
   "outputs": [],
   "source": [
    "def maxcut(nqubits, norm=2, random_graph=False):\n",
    "    \"\"\"Builds maxcut hamiltonian\"\"\"\n",
    "    if random_graph:\n",
    "        aa = np.random.randint(1, nqubits*(nqubits-1)/2+1)\n",
    "        graph = nx.random_graphs.dense_gnm_random_graph(nqubits, aa)\n",
    "        V = nx.adjacency_matrix(graph)\n",
    "\n",
    "    ham = np.zeros(shape=(2**nqubits,2**nqubits), dtype=np.complex128)\n",
    "    for i in range(nqubits):\n",
    "        for j in range(nqubits):\n",
    "            h = np.eye(1)\n",
    "            for k in range(nqubits):\n",
    "                if (k == i) ^ (k == j):\n",
    "                    h = np.kron(h, matrices.Z)\n",
    "                else:\n",
    "                    h = np.kron(h, matrices.I)            \n",
    "            M = np.eye(2**nqubits) - h\n",
    "            if random_graph:\n",
    "                ham += V[i,j] * M\n",
    "            else:\n",
    "                ham += M\n",
    "    matrix = - 1/norm * ham\n",
    "    \n",
    "    return Hamiltonian(nqubits, matrix, numpy=True)\n",
    "\n",
    "\n",
    "def Qu(beta, r, eps=1e-3):\n",
    "    return beta + np.log(r/eps) / np.log(np.e + np.log(r/eps)/beta)"
   ]
  },
  {
   "cell_type": "markdown",
   "metadata": {},
   "source": [
    "## Optimization"
   ]
  },
  {
   "cell_type": "code",
   "execution_count": 37,
   "metadata": {
    "scrolled": false
   },
   "outputs": [],
   "source": [
    "class FragmentedQuITE:\n",
    "    \n",
    "    def __init__(self, hamiltonian, r, b, query, eps=1e-3):\n",
    "        \"\"\"Test function for optimization.\"\"\"\n",
    "        self.n = hamiltonian.nqubits\n",
    "        self.energy = np.real(hamiltonian.eigenvalues())\n",
    "        self.lmin = np.min(self.energy)\n",
    "        self.lmax = np.max(self.energy)\n",
    "        self.r = r\n",
    "        self.b = b\n",
    "        self.query = query\n",
    "        self.eps = eps\n",
    "\n",
    "    def minimize(self, schedule, initial_parameters=None, method='BFGS'):\n",
    "        from scipy.optimize import minimize\n",
    "        m = minimize(lambda p, _: self.compute_query(p, schedule),\n",
    "                        initial_parameters, \n",
    "                        method, options={'disp': True, 'eps': 1e-10})\n",
    "        return m.fun, m.x\n",
    "    \n",
    "    def compute_query(self, params, schedule):\n",
    "        \"\"\"Compute query optimization.\"\"\"\n",
    "        beta = np.array([ self.b*schedule(step/self.r, params) for step in range(1, r+1)])\n",
    "        delta_l = (self.lmax-self.lmin)/2\n",
    "        Qbeta = np.ceil(self.query(np.hstack([beta[0], np.diff(beta)])*delta_l*np.e/2, self.r, self.eps))\n",
    "        Zbeta = np.sum(np.exp(-beta.reshape(-1,1)[:-1] * self.energy.reshape(1,-1)), axis=1)\n",
    "        Psbeta = Zbeta / np.exp(-beta[:-1]*self.lmin) / 2**self.n\n",
    "        Qr = np.sum(Psbeta * Qbeta[1:]) + Qbeta[0]\n",
    "        Zbeta = np.sum(np.exp(-beta[r-1]*self.energy))\n",
    "        Psbeta = Zbeta / np.exp(-beta[r-1]*self.lmin) / 2**self.n    \n",
    "        Q = 1/Psbeta * Qr\n",
    "        return Q\n",
    "\n",
    "    def reference_query(self):\n",
    "        \"\"\"Return linear query prediction.\"\"\"\n",
    "        return self.compute_query(params=None, schedule=lambda t, _: t)"
   ]
  },
  {
   "cell_type": "code",
   "execution_count": 53,
   "metadata": {},
   "outputs": [
    {
     "name": "stdout",
     "output_type": "stream",
     "text": [
      "Reference value: 7.056449424527013\n",
      "Warning: Desired error not necessarily achieved due to precision loss.\n",
      "         Current function value: 5.984699\n",
      "         Iterations: 0\n",
      "         Function evaluations: 213\n",
      "         Gradient evaluations: 69\n",
      "Optimized value: 5.984699384269003\n",
      "Best params: [0.1]\n"
     ]
    },
    {
     "data": {
      "image/png": "[encoded data removed]",
      "text/plain": [
       "<Figure size 432x288 with 1 Axes>"
      ]
     },
     "metadata": {
      "needs_background": "light"
     },
     "output_type": "display_data"
    }
   ],
   "source": [
    "nqubits = 2\n",
    "r = 2\n",
    "beta = 5\n",
    "\n",
    "model = FragmentedQuITE(maxcut(nqubits, norm=40.0, random_graph=True), r, beta, Qu)\n",
    "reference = model.reference_query()\n",
    "print('Reference value:', reference)\n",
    "\n",
    "def myschedule(t, params):\n",
    "    #return t\n",
    "    return params[0] * t + (1 - params[0]) * t**2\n",
    "    #f = sum(p * t ** (i + 2) for i, p in enumerate(params))\n",
    "    #f += (1 - np.sum(params)) * t\n",
    "    #return f\n",
    "\n",
    "result, params = model.minimize(myschedule, initial_parameters=np.array([0.1]))\n",
    "print('Optimized value:', result)\n",
    "print('Best params:', params)\n",
    "\n",
    "# plot\n",
    "x = np.linspace(0,1,50)\n",
    "plt.title('MaxCUT - qubits=%d - beta=%.1f - r=%d' % (nqubits, beta, r))\n",
    "plt.plot(x, [i for i in x], '--', label=r'$Q(\\beta,\\epsilon)=%.1f$ (linear)' % reference);\n",
    "plt.plot(x, [myschedule(i, params) for i in x], label=r'$Q(\\beta,\\epsilon)=%.1f$ (fit)' % result);\n",
    "plt.xlabel('x = step/r')\n",
    "plt.legend();"
   ]
  },
  {
   "cell_type": "code",
   "execution_count": null,
   "metadata": {},
   "outputs": [],
   "source": []
  }
 ],
 "metadata": {
  "kernelspec": {
   "display_name": "Python 3",
   "language": "python",
   "name": "python3"
  },
  "language_info": {
   "codemirror_mode": {
    "name": "ipython",
    "version": 3
   },
   "file_extension": ".py",
   "mimetype": "text/x-python",
   "name": "python",
   "nbconvert_exporter": "python",
   "pygments_lexer": "ipython3",
   "version": "3.8.3"
  }
 },
 "nbformat": 4,
 "nbformat_minor": 4
}
