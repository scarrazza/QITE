{
 "cells": [
  {
   "cell_type": "markdown",
   "id": "6a3b15ca",
   "metadata": {},
   "source": [
    "## Imports"
   ]
  },
  {
   "cell_type": "code",
   "execution_count": 1,
   "id": "c4afc521",
   "metadata": {},
   "outputs": [
    {
     "name": "stderr",
     "output_type": "stream",
     "text": [
      "[Qibo 0.1.7.dev0|INFO|2021-10-23 10:06:42]: Using qibojit backend on /GPU:0\n",
      "OMP: Info #276: omp_set_nested routine deprecated, please use omp_set_max_active_levels instead.\n"
     ]
    }
   ],
   "source": [
    "import numpy as np\n",
    "from sklearn.metrics import mean_squared_error\n",
    "import matplotlib.pyplot as plt\n",
    "from qibo.models import Circuit\n",
    "from qibo import gates, matrices\n",
    "from qibo.optimizers import optimize\n",
    "from qibo.hamiltonians import Hamiltonian\n",
    "import qibo\n",
    "qibo.set_device('/CPU:0')"
   ]
  },
  {
   "cell_type": "markdown",
   "id": "c7f852e6",
   "metadata": {},
   "source": [
    "## Setup"
   ]
  },
  {
   "cell_type": "code",
   "execution_count": 2,
   "id": "9cd97f71",
   "metadata": {},
   "outputs": [],
   "source": [
    "beta = 1\n",
    "layers = 2"
   ]
  },
  {
   "cell_type": "code",
   "execution_count": 3,
   "id": "06f05ce1",
   "metadata": {},
   "outputs": [],
   "source": [
    "def target(x, beta):\n",
    "    return np.exp(-beta*(x+1))"
   ]
  },
  {
   "cell_type": "code",
   "execution_count": 4,
   "id": "b8a6b6fe",
   "metadata": {},
   "outputs": [
    {
     "data": {
      "text/plain": [
       "[<matplotlib.lines.Line2D at 0x7fc494be1cd0>]"
      ]
     },
     "execution_count": 4,
     "metadata": {},
     "output_type": "execute_result"
    },
    {
     "data": {
      "image/png": "[encoded data removed]",
      "text/plain": [
       "<Figure size 432x288 with 1 Axes>"
      ]
     },
     "metadata": {
      "needs_background": "light"
     },
     "output_type": "display_data"
    }
   ],
   "source": [
    "x = np.linspace(-1,1,20)\n",
    "y = target(x, beta=1)\n",
    "plt.plot(x,y,'o-')"
   ]
  },
  {
   "cell_type": "markdown",
   "id": "7edf2ea2",
   "metadata": {},
   "source": [
    "## Allocate circuit"
   ]
  },
  {
   "cell_type": "code",
   "execution_count": 5,
   "id": "973f4bfc",
   "metadata": {},
   "outputs": [],
   "source": [
    "model = Circuit(1)\n",
    "for l in range(layers):\n",
    "    model.add(gates.RZ(0, theta=0))\n",
    "    model.add(gates.RY(0, theta=0))\n",
    "    model.add(gates.RZ(0, theta=0))\n",
    "    model.add(gates.RZ(0, theta=0))\n",
    "    model.add(gates.RY(0, theta=0))"
   ]
  },
  {
   "cell_type": "markdown",
   "id": "8108fd14",
   "metadata": {},
   "source": [
    "## Define Z measurement hamiltonian"
   ]
  },
  {
   "cell_type": "code",
   "execution_count": 6,
   "id": "82ec00bc",
   "metadata": {},
   "outputs": [],
   "source": [
    "def hamiltonian(nqubits, z_qubit=0):\n",
    "    \"\"\"Precomputes Hamiltonian.\n",
    "    Args:\n",
    "        nqubits (int): number of qubits.\n",
    "        z_qubit (int): qubit where the Z measurement is applied, must be z_qubit < nqubits\n",
    "    Returns:\n",
    "        An Hamiltonian object.\n",
    "    \"\"\"\n",
    "    eye = matrices.I\n",
    "    if z_qubit == 0:\n",
    "        h = matrices.Z\n",
    "        for _ in range(nqubits - 1):\n",
    "            h = K.np.kron(eye, h)\n",
    "\n",
    "    elif z_qubit == nqubits - 1:\n",
    "        h = eye\n",
    "        for _ in range(nqubits - 2):\n",
    "            h = K.np.kron(eye, h)\n",
    "        h = K.np.kron(matrices.Z, h)\n",
    "    else:\n",
    "        h = eye\n",
    "        for _ in range(nqubits - 1):\n",
    "            if _ + 1 == z_qubit:\n",
    "                h = K.np.kron(matrices.Z, h)\n",
    "            else:\n",
    "                h = K.np.kron(eye, h)\n",
    "    return Hamiltonian(nqubits, h)"
   ]
  },
  {
   "cell_type": "markdown",
   "id": "23d0f6d3",
   "metadata": {},
   "source": [
    "## Predict"
   ]
  },
  {
   "cell_type": "code",
   "execution_count": 7,
   "id": "3208ad66",
   "metadata": {
    "scrolled": true
   },
   "outputs": [],
   "source": [
    "def predict(x, params, circuit, hamiltonian):\n",
    "    ypred = np.zeros(x.shape)\n",
    "    for i, ix in enumerate(x):\n",
    "        lparams = params.copy()\n",
    "        for l in range(layers):\n",
    "            lparams[0 + l*5] = (lparams[0 + l*5] + lparams[2 + l*5]) / 2.0\n",
    "            lparams[2 + l*5] = (lparams[0 + l*5] - lparams[2 + l*5]) / 2.0            \n",
    "            lparams[3 + l*5] *= ix\n",
    "        circuit.set_parameters(lparams)\n",
    "        final_state = circuit()\n",
    "        ypred[i] = hamiltonian.expectation(final_state)\n",
    "    return ypred"
   ]
  },
  {
   "cell_type": "markdown",
   "id": "9a4c6036",
   "metadata": {},
   "source": [
    "## Loss"
   ]
  },
  {
   "cell_type": "code",
   "execution_count": 8,
   "id": "f387d4a4",
   "metadata": {},
   "outputs": [],
   "source": [
    "def loss(params, circuit, hamiltonian, x):\n",
    "    ypred = predict(x, params, circuit, hamiltonian)\n",
    "    loss = np.mean(np.square(y - ypred))\n",
    "    return loss"
   ]
  },
  {
   "cell_type": "markdown",
   "id": "cc1742a5",
   "metadata": {},
   "source": [
    "## Train"
   ]
  },
  {
   "cell_type": "code",
   "execution_count": 9,
   "id": "631f7047",
   "metadata": {},
   "outputs": [],
   "source": [
    "H = hamiltonian(1)\n",
    "np.random.seed(0)\n",
    "init = np.random.rand(len(model.get_parameters()))\n",
    "result, parameters, extra = optimize(loss, init, args=(model, H, x), method='BFGS')"
   ]
  },
  {
   "cell_type": "markdown",
   "id": "a41dcb7d",
   "metadata": {},
   "source": [
    "## Check"
   ]
  },
  {
   "cell_type": "code",
   "execution_count": 10,
   "id": "9f98e90a",
   "metadata": {},
   "outputs": [
    {
     "data": {
      "text/plain": [
       "<matplotlib.legend.Legend at 0x7fc4942fbee0>"
      ]
     },
     "execution_count": 10,
     "metadata": {},
     "output_type": "execute_result"
    },
    {
     "data": {
      "image/png": "[encoded data removed]",
      "text/plain": [
       "<Figure size 432x288 with 1 Axes>"
      ]
     },
     "metadata": {
      "needs_background": "light"
     },
     "output_type": "display_data"
    }
   ],
   "source": [
    "ypred = predict(x, parameters, model, H)\n",
    "\n",
    "xx = np.linspace(-2,2,50)\n",
    "yy = predict(xx, parameters, model, H)\n",
    "\n",
    "plt.plot(x,y,'o', label='training data')\n",
    "plt.plot(xx, yy,'-', label='circuit prediction')\n",
    "\n",
    "plt.title(f'1-qubit - {layers} layers')\n",
    "plt.xlabel('x')\n",
    "plt.legend()"
   ]
  }
 ],
 "metadata": {
  "kernelspec": {
   "display_name": "Python 3 (ipykernel)",
   "language": "python",
   "name": "python3"
  },
  "language_info": {
   "codemirror_mode": {
    "name": "ipython",
    "version": 3
   },
   "file_extension": ".py",
   "mimetype": "text/x-python",
   "name": "python",
   "nbconvert_exporter": "python",
   "pygments_lexer": "ipython3",
   "version": "3.8.11"
  }
 },
 "nbformat": 4,
 "nbformat_minor": 5
}
